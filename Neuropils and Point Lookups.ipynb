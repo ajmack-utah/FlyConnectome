{
 "cells": [
  {
   "cell_type": "markdown",
   "id": "af649aad",
   "metadata": {},
   "source": [
    "# Neuropils and Point Lookups\n",
    "\n",
    "This tutorial provides instructions for how to download neuropil meshes and quickly calculate in which neuropil a point in space is located.\n",
    "\n",
    "Note on versions: We updated the neuropil meshes in the optic lobes between versions 630 and 783. We recommend using the later version of the neuropils but both are provided for the scenario that one wants to replicate analyses published with version 630."
   ]
  },
  {
   "cell_type": "markdown",
   "id": "aae6159e",
   "metadata": {},
   "source": [
    "## CloudVolume\n",
    "\n",
    "[CloudVolume](https://github.com/seung-lab/cloud-volume) is a powerful Python library for accessing 3d volumetric data stored in the cloud (Google, AWS). You can install cloudvolume via\n",
    "\n",
    "```\n",
    "pip install cloud-volume\n",
    "```\n",
    "\n",
    "Cloudvolume is officially supports on Linux and MacOS; Windows is community supported is known to create challenges during the installation process."
   ]
  },
  {
   "cell_type": "code",
   "execution_count": 1,
   "id": "89dd599a",
   "metadata": {},
   "outputs": [],
   "source": [
    "!pip install cloudvolume"
   ]
  },
  {
   "cell_type": "code",
   "execution_count": 2,
   "id": "e10a3869",
   "metadata": {},
   "outputs": [],
   "source": [
    "import cloudvolume"
   ]
  },
  {
   "cell_type": "markdown",
   "id": "ddac11c6",
   "metadata": {},
   "source": [
    "## Neuropils \n",
    "\n",
    "The neuropils can be downloaded via cloudvolume. These are stored as an int -> mesh lookup. We provide a map to neuropil names."
   ]
  },
  {
   "cell_type": "code",
   "execution_count": 3,
   "id": "6e8890c4",
   "metadata": {},
   "outputs": [],
   "source": [
    "np_path = \"precomputed://gs://flywire_neuropil_meshes/neuropils/neuropil_mesh_v141_v5\"\n",
    "# For meshes used for the 630 release uncommented this path:\n",
    "# np_path = \"precomputed://gs://flywire_neuropil_meshes/neuropils/neuropil_mesh_v141_v3\"\n",
    "cv_nps = cloudvolume.CloudVolume(np_path)\n",
    "\n",
    "mesh_map = {\"0\": \"SCL_R\", \"1\": \"SMP_R\", \"2\": \"ME_R\", \"3\": \"CAN_L\", \"4\": \"MB_VL_L\", \"5\": \"FLA_R\", \"6\": \"LOP_L\", \"7\": \"IPS_L\", \"8\": \"EPA_L\", \"9\": \"PLP_R\", \"10\": \"MB_ML_L\", \"11\": \"BU_R\", \"12\": \"GOR_L\", \"13\": \"SPS_L\", \"14\": \"LO_R\", \"15\": \"SCL_L\", \"16\": \"GA_R\", \"17\": \"IB_R\", \"18\": \"ATL_L\", \"19\": \"CRE_R\", \"20\": \"LH_L\", \"21\": \"MB_CA_R\", \"22\": \"AOTU_L\", \"23\": \"ATL_R\", \"24\": \"AOTU_R\", \"25\": \"LAL_R\", \"26\": \"GNG\", \"27\": \"AL_R\", \"28\": \"MB_PED_R\", \"29\": \"AME_R\", \"30\": \"CRE_L\", \"31\": \"ICL_L\", \"32\": \"GOR_R\", \"33\": \"ICL_R\", \"34\": \"GA_L\", \"35\": \"EB\", \"36\": \"LOP_R\", \"37\": \"PVLP_R\", \"38\": \"IPS_R\", \"39\": \"PVLP_L\", \"40\": \"VES_R\", \"41\": \"MB_ML_R\", \"42\": \"SMP_L\", \"43\": \"ME_L\", \"44\": \"VES_L\", \"45\": \"AMMC_L\", \"46\": \"LAL_L\", \"47\": \"SLP_R\", \"48\": \"MB_PED_L\", \"49\": \"AVLP_R\", \"50\": \"WED_L\", \"51\": \"LO_L\", \"52\": \"EPA_R\", \"53\": \"PRW\", \"54\": \"LH_R\", \"55\": \"MB_VL_R\", \"56\": \"AME_L\", \"57\": \"AL_L\", \"58\": \"NO\", \"59\": \"PLP_L\", \"60\": \"WED_R\", \"61\": \"CAN_R\", \"62\": \"SLP_L\", \"63\": \"SIP_R\", \"64\": \"SPS_R\", \"65\": \"FB\", \"66\": \"MB_CA_L\", \"67\": \"IB_L\", \"68\": \"PB\", \"69\": \"AVLP_L\", \"70\": \"SAD\", \"71\": \"AMMC_R\", \"72\": \"SIP_L\", \"73\": \"BU_L\", \"74\": \"FLA_L\", \"75\": \"LA_R\", \"76\": \"LA_L\", \"77\": \"OCG\"}"
   ]
  },
  {
   "cell_type": "markdown",
   "id": "b93d15ef",
   "metadata": {},
   "source": [
    "This command downloads all 78 neuropils and loads them into a dictionary"
   ]
  },
  {
   "cell_type": "code",
   "execution_count": 4,
   "id": "a8f1f5b9",
   "metadata": {
    "scrolled": true
   },
   "outputs": [
    {
     "name": "stderr",
     "output_type": "stream",
     "text": [
      "Exists: 100%|█████████████████████████████████████| 1/1 [00:00<00:00,  5.62it/s]\n",
      "Decoding Mesh Buffer: 100%|█████████████████████| 1/1 [00:00<00:00, 1821.23it/s]\n",
      "Exists: 100%|█████████████████████████████████████| 1/1 [00:00<00:00,  6.80it/s]\n",
      "Decoding Mesh Buffer: 100%|█████████████████████| 1/1 [00:00<00:00, 1451.32it/s]\n",
      "Exists: 100%|█████████████████████████████████████| 1/1 [00:00<00:00,  7.06it/s]\n",
      "Decoding Mesh Buffer: 100%|█████████████████████| 1/1 [00:00<00:00, 1714.76it/s]\n",
      "Exists: 100%|█████████████████████████████████████| 1/1 [00:00<00:00,  7.15it/s]\n",
      "Decoding Mesh Buffer: 100%|█████████████████████| 1/1 [00:00<00:00, 3134.76it/s]\n",
      "Exists: 100%|█████████████████████████████████████| 1/1 [00:00<00:00,  5.79it/s]\n",
      "Decoding Mesh Buffer: 100%|█████████████████████| 1/1 [00:00<00:00, 4364.52it/s]\n",
      "Exists: 100%|█████████████████████████████████████| 1/1 [00:00<00:00,  7.04it/s]\n",
      "Decoding Mesh Buffer: 100%|█████████████████████| 1/1 [00:00<00:00, 1754.94it/s]\n",
      "Exists: 100%|█████████████████████████████████████| 1/1 [00:00<00:00,  3.63it/s]\n",
      "Decoding Mesh Buffer: 100%|█████████████████████| 1/1 [00:00<00:00, 4782.56it/s]\n",
      "Exists: 100%|█████████████████████████████████████| 1/1 [00:00<00:00,  2.98it/s]\n",
      "Decoding Mesh Buffer: 100%|█████████████████████| 1/1 [00:00<00:00, 3844.46it/s]\n",
      "Exists: 100%|█████████████████████████████████████| 1/1 [00:00<00:00,  2.93it/s]\n",
      "Decoding Mesh Buffer: 100%|█████████████████████| 1/1 [00:00<00:00, 2403.61it/s]\n",
      "Exists: 100%|█████████████████████████████████████| 1/1 [00:00<00:00,  5.22it/s]\n",
      "Decoding Mesh Buffer: 100%|█████████████████████| 1/1 [00:00<00:00, 2816.86it/s]\n",
      "Exists: 100%|█████████████████████████████████████| 1/1 [00:00<00:00,  7.69it/s]\n",
      "Decoding Mesh Buffer: 100%|█████████████████████| 1/1 [00:00<00:00, 3302.60it/s]\n",
      "Exists: 100%|█████████████████████████████████████| 1/1 [00:00<00:00,  7.19it/s]\n",
      "Decoding Mesh Buffer: 100%|█████████████████████| 1/1 [00:00<00:00, 2576.35it/s]\n",
      "Exists: 100%|█████████████████████████████████████| 1/1 [00:00<00:00,  7.22it/s]\n",
      "Decoding Mesh Buffer: 100%|█████████████████████| 1/1 [00:00<00:00, 8388.61it/s]\n",
      "Exists: 100%|█████████████████████████████████████| 1/1 [00:00<00:00,  7.17it/s]\n",
      "Decoding Mesh Buffer: 100%|█████████████████████| 1/1 [00:00<00:00, 3165.51it/s]\n",
      "Exists: 100%|█████████████████████████████████████| 1/1 [00:00<00:00,  7.20it/s]\n",
      "Decoding Mesh Buffer: 100%|█████████████████████| 1/1 [00:00<00:00, 2054.02it/s]\n",
      "Exists: 100%|█████████████████████████████████████| 1/1 [00:00<00:00,  7.04it/s]\n",
      "Decoding Mesh Buffer: 100%|█████████████████████| 1/1 [00:00<00:00, 3880.02it/s]\n",
      "Exists: 100%|█████████████████████████████████████| 1/1 [00:00<00:00,  6.48it/s]\n",
      "Decoding Mesh Buffer: 100%|█████████████████████| 1/1 [00:00<00:00, 2123.70it/s]\n",
      "Exists: 100%|█████████████████████████████████████| 1/1 [00:00<00:00,  7.20it/s]\n",
      "Decoding Mesh Buffer: 100%|█████████████████████| 1/1 [00:00<00:00, 3269.14it/s]\n",
      "Exists: 100%|█████████████████████████████████████| 1/1 [00:00<00:00,  6.98it/s]\n",
      "Decoding Mesh Buffer: 100%|█████████████████████| 1/1 [00:00<00:00, 2062.10it/s]\n",
      "Exists: 100%|█████████████████████████████████████| 1/1 [00:00<00:00,  6.71it/s]\n",
      "Decoding Mesh Buffer: 100%|█████████████████████| 1/1 [00:00<00:00, 1661.11it/s]\n",
      "Exists: 100%|█████████████████████████████████████| 1/1 [00:00<00:00,  6.75it/s]\n",
      "Decoding Mesh Buffer: 100%|█████████████████████| 1/1 [00:00<00:00, 1170.94it/s]\n",
      "Exists: 100%|█████████████████████████████████████| 1/1 [00:00<00:00,  6.49it/s]\n",
      "Decoding Mesh Buffer: 100%|██████████████████████| 1/1 [00:00<00:00, 690.19it/s]\n",
      "Exists: 100%|█████████████████████████████████████| 1/1 [00:00<00:00,  7.17it/s]\n",
      "Decoding Mesh Buffer: 100%|█████████████████████| 1/1 [00:00<00:00, 1706.39it/s]\n",
      "Exists: 100%|█████████████████████████████████████| 1/1 [00:00<00:00,  6.53it/s]\n",
      "Decoding Mesh Buffer: 100%|█████████████████████| 1/1 [00:00<00:00, 3597.17it/s]\n",
      "Exists: 100%|█████████████████████████████████████| 1/1 [00:00<00:00,  7.21it/s]\n",
      "Decoding Mesh Buffer: 100%|█████████████████████| 1/1 [00:00<00:00, 7244.05it/s]\n",
      "Exists: 100%|█████████████████████████████████████| 1/1 [00:00<00:00,  7.27it/s]\n",
      "Decoding Mesh Buffer: 100%|█████████████████████| 1/1 [00:00<00:00, 2087.76it/s]\n",
      "Exists: 100%|█████████████████████████████████████| 1/1 [00:00<00:00,  7.19it/s]\n",
      "Decoding Mesh Buffer: 100%|█████████████████████| 1/1 [00:00<00:00, 3830.41it/s]\n",
      "Exists: 100%|█████████████████████████████████████| 1/1 [00:00<00:00,  5.50it/s]\n",
      "Decoding Mesh Buffer: 100%|█████████████████████| 1/1 [00:00<00:00, 2003.97it/s]\n",
      "Exists: 100%|█████████████████████████████████████| 1/1 [00:00<00:00,  5.32it/s]\n",
      "Decoding Mesh Buffer: 100%|█████████████████████| 1/1 [00:00<00:00, 1750.54it/s]\n",
      "Exists: 100%|█████████████████████████████████████| 1/1 [00:00<00:00,  5.32it/s]\n",
      "Decoding Mesh Buffer: 100%|█████████████████████| 1/1 [00:00<00:00, 2431.48it/s]\n",
      "Exists: 100%|█████████████████████████████████████| 1/1 [00:00<00:00,  7.26it/s]\n",
      "Decoding Mesh Buffer: 100%|█████████████████████| 1/1 [00:00<00:00, 1157.37it/s]\n",
      "Exists: 100%|█████████████████████████████████████| 1/1 [00:00<00:00,  5.70it/s]\n",
      "Decoding Mesh Buffer: 100%|█████████████████████| 1/1 [00:00<00:00, 2704.26it/s]\n",
      "Exists: 100%|█████████████████████████████████████| 1/1 [00:00<00:00,  4.94it/s]\n",
      "Decoding Mesh Buffer: 100%|█████████████████████| 1/1 [00:00<00:00, 2702.52it/s]\n",
      "Exists: 100%|█████████████████████████████████████| 1/1 [00:00<00:00,  6.44it/s]\n",
      "Decoding Mesh Buffer: 100%|█████████████████████| 1/1 [00:00<00:00, 3858.61it/s]\n",
      "Exists: 100%|█████████████████████████████████████| 1/1 [00:00<00:00,  6.47it/s]\n",
      "Decoding Mesh Buffer: 100%|█████████████████████| 1/1 [00:00<00:00, 4064.25it/s]\n",
      "Exists: 100%|█████████████████████████████████████| 1/1 [00:00<00:00,  6.79it/s]\n",
      "Decoding Mesh Buffer: 100%|█████████████████████| 1/1 [00:00<00:00, 4788.02it/s]\n",
      "Exists: 100%|█████████████████████████████████████| 1/1 [00:00<00:00,  6.98it/s]\n",
      "Decoding Mesh Buffer: 100%|█████████████████████| 1/1 [00:00<00:00, 3844.46it/s]\n",
      "Exists: 100%|█████████████████████████████████████| 1/1 [00:00<00:00,  7.52it/s]\n",
      "Decoding Mesh Buffer: 100%|█████████████████████| 1/1 [00:00<00:00, 1249.79it/s]\n",
      "Exists: 100%|█████████████████████████████████████| 1/1 [00:00<00:00,  7.13it/s]\n",
      "Decoding Mesh Buffer: 100%|█████████████████████| 1/1 [00:00<00:00, 3788.89it/s]\n",
      "Exists: 100%|█████████████████████████████████████| 1/1 [00:00<00:00,  7.10it/s]\n",
      "Decoding Mesh Buffer: 100%|█████████████████████| 1/1 [00:00<00:00, 1908.24it/s]\n",
      "Exists: 100%|█████████████████████████████████████| 1/1 [00:00<00:00,  6.99it/s]\n",
      "Decoding Mesh Buffer: 100%|█████████████████████| 1/1 [00:00<00:00, 1026.00it/s]\n",
      "Exists: 100%|█████████████████████████████████████| 1/1 [00:00<00:00,  7.04it/s]\n",
      "Decoding Mesh Buffer: 100%|█████████████████████| 1/1 [00:00<00:00, 4310.69it/s]\n",
      "Exists: 100%|█████████████████████████████████████| 1/1 [00:00<00:00,  6.80it/s]\n",
      "Decoding Mesh Buffer: 100%|█████████████████████| 1/1 [00:00<00:00, 2380.42it/s]\n",
      "Exists: 100%|█████████████████████████████████████| 1/1 [00:00<00:00,  7.19it/s]\n",
      "Decoding Mesh Buffer: 100%|█████████████████████| 1/1 [00:00<00:00, 2319.86it/s]\n",
      "Exists: 100%|█████████████████████████████████████| 1/1 [00:00<00:00,  7.11it/s]\n",
      "Decoding Mesh Buffer: 100%|█████████████████████| 1/1 [00:00<00:00, 4002.20it/s]\n",
      "Exists: 100%|█████████████████████████████████████| 1/1 [00:00<00:00,  6.53it/s]\n",
      "Decoding Mesh Buffer: 100%|█████████████████████| 1/1 [00:00<00:00, 2336.66it/s]\n",
      "Exists: 100%|█████████████████████████████████████| 1/1 [00:00<00:00,  7.14it/s]\n",
      "Decoding Mesh Buffer: 100%|█████████████████████| 1/1 [00:00<00:00, 1811.79it/s]\n",
      "Exists: 100%|█████████████████████████████████████| 1/1 [00:00<00:00,  6.97it/s]\n",
      "Decoding Mesh Buffer: 100%|█████████████████████| 1/1 [00:00<00:00, 1562.71it/s]\n",
      "Exists: 100%|█████████████████████████████████████| 1/1 [00:00<00:00,  6.87it/s]\n",
      "Decoding Mesh Buffer: 100%|█████████████████████| 1/1 [00:00<00:00, 2673.23it/s]\n",
      "Exists: 100%|█████████████████████████████████████| 1/1 [00:00<00:00,  7.06it/s]\n",
      "Decoding Mesh Buffer: 100%|█████████████████████| 1/1 [00:00<00:00, 3938.31it/s]\n",
      "Exists: 100%|█████████████████████████████████████| 1/1 [00:00<00:00,  7.35it/s]\n"
     ]
    },
    {
     "name": "stderr",
     "output_type": "stream",
     "text": [
      "Decoding Mesh Buffer: 100%|█████████████████████| 1/1 [00:00<00:00, 2114.06it/s]\n",
      "Exists: 100%|█████████████████████████████████████| 1/1 [00:00<00:00,  3.38it/s]\n",
      "Decoding Mesh Buffer: 100%|█████████████████████| 1/1 [00:00<00:00, 2501.08it/s]\n",
      "Exists: 100%|█████████████████████████████████████| 1/1 [00:00<00:00,  4.40it/s]\n",
      "Decoding Mesh Buffer: 100%|█████████████████████| 1/1 [00:00<00:00, 3998.38it/s]\n",
      "Exists: 100%|█████████████████████████████████████| 1/1 [00:00<00:00,  5.34it/s]\n",
      "Decoding Mesh Buffer: 100%|█████████████████████| 1/1 [00:00<00:00, 1865.79it/s]\n",
      "Exists: 100%|█████████████████████████████████████| 1/1 [00:00<00:00,  5.50it/s]\n",
      "Decoding Mesh Buffer: 100%|█████████████████████| 1/1 [00:00<00:00, 1834.78it/s]\n",
      "Exists: 100%|█████████████████████████████████████| 1/1 [00:00<00:00,  2.94it/s]\n",
      "Decoding Mesh Buffer: 100%|█████████████████████| 1/1 [00:00<00:00, 1420.35it/s]\n",
      "Exists: 100%|█████████████████████████████████████| 1/1 [00:00<00:00,  6.51it/s]\n",
      "Decoding Mesh Buffer: 100%|█████████████████████| 1/1 [00:00<00:00, 3048.19it/s]\n",
      "Exists: 100%|█████████████████████████████████████| 1/1 [00:00<00:00,  6.87it/s]\n",
      "Decoding Mesh Buffer: 100%|█████████████████████| 1/1 [00:00<00:00, 2688.66it/s]\n",
      "Exists: 100%|█████████████████████████████████████| 1/1 [00:00<00:00,  7.14it/s]\n",
      "Decoding Mesh Buffer: 100%|█████████████████████| 1/1 [00:00<00:00, 3572.66it/s]\n",
      "Exists: 100%|█████████████████████████████████████| 1/1 [00:00<00:00,  7.08it/s]\n",
      "Decoding Mesh Buffer: 100%|█████████████████████| 1/1 [00:00<00:00, 1576.81it/s]\n",
      "Exists: 100%|█████████████████████████████████████| 1/1 [00:00<00:00,  7.29it/s]\n",
      "Decoding Mesh Buffer: 100%|█████████████████████| 1/1 [00:00<00:00, 3905.31it/s]\n",
      "Exists: 100%|█████████████████████████████████████| 1/1 [00:00<00:00,  7.23it/s]\n",
      "Decoding Mesh Buffer: 100%|█████████████████████| 1/1 [00:00<00:00, 1700.16it/s]\n",
      "Exists: 100%|█████████████████████████████████████| 1/1 [00:00<00:00,  6.30it/s]\n",
      "Decoding Mesh Buffer: 100%|█████████████████████| 1/1 [00:00<00:00, 2457.12it/s]\n",
      "Exists: 100%|█████████████████████████████████████| 1/1 [00:00<00:00,  6.84it/s]\n",
      "Decoding Mesh Buffer: 100%|█████████████████████| 1/1 [00:00<00:00, 3692.17it/s]\n",
      "Exists: 100%|█████████████████████████████████████| 1/1 [00:00<00:00,  6.91it/s]\n",
      "Decoding Mesh Buffer: 100%|█████████████████████| 1/1 [00:00<00:00, 1457.37it/s]\n",
      "Exists: 100%|█████████████████████████████████████| 1/1 [00:00<00:00,  7.33it/s]\n",
      "Decoding Mesh Buffer: 100%|█████████████████████| 1/1 [00:00<00:00, 2341.88it/s]\n",
      "Exists: 100%|█████████████████████████████████████| 1/1 [00:00<00:00,  5.82it/s]\n",
      "Decoding Mesh Buffer: 100%|█████████████████████| 1/1 [00:00<00:00, 1138.83it/s]\n",
      "Exists: 100%|█████████████████████████████████████| 1/1 [00:00<00:00,  6.64it/s]\n",
      "Decoding Mesh Buffer: 100%|█████████████████████| 1/1 [00:00<00:00, 1402.31it/s]\n",
      "Exists: 100%|█████████████████████████████████████| 1/1 [00:00<00:00,  5.70it/s]\n",
      "Decoding Mesh Buffer: 100%|██████████████████████| 1/1 [00:00<00:00, 576.70it/s]\n",
      "Exists: 100%|█████████████████████████████████████| 1/1 [00:00<00:00,  5.65it/s]\n",
      "Decoding Mesh Buffer: 100%|█████████████████████| 1/1 [00:00<00:00, 7084.97it/s]\n",
      "Exists: 100%|█████████████████████████████████████| 1/1 [00:00<00:00,  6.79it/s]\n",
      "Decoding Mesh Buffer: 100%|█████████████████████| 1/1 [00:00<00:00, 2006.84it/s]\n",
      "Exists: 100%|█████████████████████████████████████| 1/1 [00:00<00:00,  7.21it/s]\n",
      "Decoding Mesh Buffer: 100%|█████████████████████| 1/1 [00:00<00:00, 3095.43it/s]\n",
      "Exists: 100%|█████████████████████████████████████| 1/1 [00:00<00:00,  6.63it/s]\n",
      "Decoding Mesh Buffer: 100%|█████████████████████| 1/1 [00:00<00:00, 4036.87it/s]\n",
      "Exists: 100%|█████████████████████████████████████| 1/1 [00:00<00:00,  6.64it/s]\n",
      "Decoding Mesh Buffer: 100%|█████████████████████| 1/1 [00:00<00:00, 4583.94it/s]\n",
      "Exists: 100%|█████████████████████████████████████| 1/1 [00:00<00:00,  7.46it/s]\n",
      "Decoding Mesh Buffer: 100%|█████████████████████| 1/1 [00:00<00:00, 1176.52it/s]\n",
      "Exists: 100%|█████████████████████████████████████| 1/1 [00:00<00:00,  4.28it/s]\n",
      "Decoding Mesh Buffer: 100%|█████████████████████| 1/1 [00:00<00:00, 2141.04it/s]\n",
      "Exists: 100%|█████████████████████████████████████| 1/1 [00:00<00:00,  7.09it/s]\n",
      "Decoding Mesh Buffer: 100%|█████████████████████| 1/1 [00:00<00:00, 3744.91it/s]\n",
      "Exists: 100%|█████████████████████████████████████| 1/1 [00:00<00:00,  5.34it/s]\n",
      "Decoding Mesh Buffer: 100%|█████████████████████| 1/1 [00:00<00:00, 2187.95it/s]\n"
     ]
    }
   ],
   "source": [
    "np_d = {\n",
    "    v: cv_nps.mesh.get(int(k)) \n",
    "    for k, v in mesh_map.items() if int(k) < 78\n",
    "}"
   ]
  },
  {
   "cell_type": "markdown",
   "id": "a29729b8",
   "metadata": {},
   "source": [
    "Each mesh consists of vertices and faces. If you are interested in visualizing these meshes, checkout [MeshParty](https://meshparty.readthedocs.io/en/latest/)."
   ]
  },
  {
   "cell_type": "markdown",
   "id": "870cac71",
   "metadata": {},
   "source": [
    "## Point lookups in meshes\n",
    "\n",
    "This section describes how one can lookup in which neuropil a point is located. It uses [ncollpyde](https://pypi.org/project/ncollpyde/). ncollpyde provides fast and convenient ways to lookup points with relation to meshes."
   ]
  },
  {
   "cell_type": "code",
   "execution_count": 5,
   "id": "bc5dc767",
   "metadata": {},
   "outputs": [],
   "source": [
    "!pip install navis\n",
    "!pip install ncollpyde"
   ]
  },
  {
   "cell_type": "code",
   "execution_count": 6,
   "id": "c4ab3a16",
   "metadata": {},
   "outputs": [],
   "source": [
    "import navis \n",
    "import ncollpyde\n",
    "import numpy as np"
   ]
  },
  {
   "cell_type": "markdown",
   "id": "dab8c518",
   "metadata": {},
   "source": [
    "First, we need to transform the meshes into ncollpydes' format:"
   ]
  },
  {
   "cell_type": "code",
   "execution_count": 7,
   "id": "a0cd3739",
   "metadata": {},
   "outputs": [],
   "source": [
    "np_ncoll_d = {\n",
    "    k: ncollpyde.Volume(m.vertices, m.faces, n_rays=3)\n",
    "    for k, m in np_d.items()\n",
    "}"
   ]
  },
  {
   "cell_type": "markdown",
   "id": "f04bbf18",
   "metadata": {},
   "source": [
    "The meshes use nanometers as resolution, so points need be given in nanometers as well. When copying points from neuroglancer, take note of the resolution given in the upper right."
   ]
  },
  {
   "cell_type": "code",
   "execution_count": 8,
   "id": "52304dc5",
   "metadata": {},
   "outputs": [],
   "source": [
    "example_locations = np.array([\n",
    "    [480420, 308060,  97520],\n",
    "    [530968, 161116, 159440]\n",
    "])"
   ]
  },
  {
   "cell_type": "markdown",
   "id": "ea255b66",
   "metadata": {},
   "source": [
    "Each neuropil needs to be independently tested:"
   ]
  },
  {
   "cell_type": "code",
   "execution_count": 9,
   "id": "423a34a5",
   "metadata": {},
   "outputs": [],
   "source": [
    "volcon = {}\n",
    "for k, vol in np_ncoll_d.items():\n",
    "    volcon[k] = vol.contains(example_locations)"
   ]
  },
  {
   "cell_type": "code",
   "execution_count": 10,
   "id": "461d7c69",
   "metadata": {
    "scrolled": true
   },
   "outputs": [
    {
     "data": {
      "text/plain": [
       "{'SCL_R': array([False, False]),\n",
       " 'SMP_R': array([False, False]),\n",
       " 'ME_R': array([False, False]),\n",
       " 'CAN_L': array([False, False]),\n",
       " 'MB_VL_L': array([False, False]),\n",
       " 'FLA_R': array([False, False]),\n",
       " 'LOP_L': array([False, False]),\n",
       " 'IPS_L': array([False, False]),\n",
       " 'EPA_L': array([False, False]),\n",
       " 'PLP_R': array([False, False]),\n",
       " 'MB_ML_L': array([False, False]),\n",
       " 'BU_R': array([False, False]),\n",
       " 'GOR_L': array([False, False]),\n",
       " 'SPS_L': array([False, False]),\n",
       " 'LO_R': array([False, False]),\n",
       " 'SCL_L': array([False, False]),\n",
       " 'GA_R': array([False, False]),\n",
       " 'IB_R': array([False, False]),\n",
       " 'ATL_L': array([False, False]),\n",
       " 'CRE_R': array([False, False]),\n",
       " 'LH_L': array([False, False]),\n",
       " 'MB_CA_R': array([False, False]),\n",
       " 'AOTU_L': array([False, False]),\n",
       " 'ATL_R': array([False, False]),\n",
       " 'AOTU_R': array([False, False]),\n",
       " 'LAL_R': array([False, False]),\n",
       " 'GNG': array([ True, False]),\n",
       " 'AL_R': array([False, False]),\n",
       " 'MB_PED_R': array([False, False]),\n",
       " 'AME_R': array([False, False]),\n",
       " 'CRE_L': array([False, False]),\n",
       " 'ICL_L': array([False, False]),\n",
       " 'GOR_R': array([False, False]),\n",
       " 'ICL_R': array([False, False]),\n",
       " 'GA_L': array([False, False]),\n",
       " 'EB': array([False, False]),\n",
       " 'LOP_R': array([False, False]),\n",
       " 'PVLP_R': array([False, False]),\n",
       " 'IPS_R': array([False, False]),\n",
       " 'PVLP_L': array([False, False]),\n",
       " 'VES_R': array([False, False]),\n",
       " 'MB_ML_R': array([False, False]),\n",
       " 'SMP_L': array([False, False]),\n",
       " 'ME_L': array([False, False]),\n",
       " 'VES_L': array([False, False]),\n",
       " 'AMMC_L': array([False, False]),\n",
       " 'LAL_L': array([False, False]),\n",
       " 'SLP_R': array([False, False]),\n",
       " 'MB_PED_L': array([False, False]),\n",
       " 'AVLP_R': array([False, False]),\n",
       " 'WED_L': array([False, False]),\n",
       " 'LO_L': array([False, False]),\n",
       " 'EPA_R': array([False, False]),\n",
       " 'PRW': array([False, False]),\n",
       " 'LH_R': array([False, False]),\n",
       " 'MB_VL_R': array([False, False]),\n",
       " 'AME_L': array([False, False]),\n",
       " 'AL_L': array([False, False]),\n",
       " 'NO': array([False, False]),\n",
       " 'PLP_L': array([False, False]),\n",
       " 'WED_R': array([False, False]),\n",
       " 'CAN_R': array([False, False]),\n",
       " 'SLP_L': array([False, False]),\n",
       " 'SIP_R': array([False, False]),\n",
       " 'SPS_R': array([False, False]),\n",
       " 'FB': array([False, False]),\n",
       " 'MB_CA_L': array([False, False]),\n",
       " 'IB_L': array([False, False]),\n",
       " 'PB': array([False,  True]),\n",
       " 'AVLP_L': array([False, False]),\n",
       " 'SAD': array([False, False]),\n",
       " 'AMMC_R': array([False, False]),\n",
       " 'SIP_L': array([False, False]),\n",
       " 'BU_L': array([False, False]),\n",
       " 'FLA_L': array([False, False]),\n",
       " 'LA_R': array([False, False]),\n",
       " 'LA_L': array([False, False]),\n",
       " 'OCG': array([False, False])}"
      ]
     },
     "execution_count": 10,
     "metadata": {},
     "output_type": "execute_result"
    }
   ],
   "source": [
    "volcon"
   ]
  }
 ],
 "metadata": {
  "kernelspec": {
   "display_name": "Python 3 (ipykernel)",
   "language": "python",
   "name": "python3"
  },
  "language_info": {
   "codemirror_mode": {
    "name": "ipython",
    "version": 3
   },
   "file_extension": ".py",
   "mimetype": "text/x-python",
   "name": "python",
   "nbconvert_exporter": "python",
   "pygments_lexer": "ipython3",
   "version": "3.7.12"
  }
 },
 "nbformat": 4,
 "nbformat_minor": 5
}
